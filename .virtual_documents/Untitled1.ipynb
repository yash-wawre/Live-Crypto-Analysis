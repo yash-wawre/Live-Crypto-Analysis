print("hello world")


import binance
from binance.client import Client
import pandas as pd
import plotly.graph_objects as go
import plotly.express as  px
import numpy as np
import mplfinance as mpf
client = Client("","")

symbol = input("Enter the Coin_Name :  ")
price = client.get_symbol_ticker(symbol=symbol)
print(f"Bitcoin Live Price : ${price['price']}")


klines = client.get_klines(symbol = symbol,interval = Client.KLINE_INTERVAL_1DAY,limit=7)
print(klines)


# Covert a Data to DataFrame
df = pd.DataFrame(klines,columns=['Time','Open','Close','High','Low','Volume','_','_','_','_','_','_'])
df['Close'] = df['Close'].astype(float)

df['SMA_20'] = df['Close'].rolling(window=20).mean() # 20 days SMA
df['EMA_20'] = df['Close'].ewm(span=20,adjust=False).mean() # 20 days SMA

fig = go.Figure()

# Closing Price Line
fig.add_trace(go.Scatter(x=df['Time'], y=df['Close'], mode='lines', name='Closing Price', line=dict(color='orange')))

# 20-Day SMA Line
fig.add_trace(go.Scatter(x=df['Time'], y=df['SMA_20'], mode='lines', name='20-Day SMA', 
                         line=dict(color='blue', dash='dash')))

# 20-Day EMA Line
fig.add_trace(go.Scatter(x=df['Time'], y=df['EMA_20'], mode='lines', name='20-Day EMA', 
                         line=dict(color='red')))

# Layout customization
fig.update_layout(title=f"{symbol} Price Trends with SMA & EMA",
                  xaxis_title="Time",
                  yaxis_title="Price (USDT)",
                  template="plotly_dark",
                  hovermode="x unified")

# Show plot
fig.show()



# Treads Lines
def support_resistance_levels(data):
    high_prices = data['High'].astype(float)
    low_prices = data["Low"].astype(float)
    support = np.percentile(low_prices,10)
    resistance = np.percentile(high_prices,90)
    return support , resistance
support , resistance = support_resistance_levels(df)
print(f"Support Level : {support}")
print(f"Ressistance Level : {resistance}")

fig = go.Figure()

# Closing Price Line
fig.add_trace(go.Scatter(x=df['Time'], y=df['Close'], mode='lines', name='Closing Price', line=dict(color='green')))

# Support Level Line
fig.add_trace(go.Scatter(x=df['Time'], y=[support] * len(df), mode='lines', 
                         name='Support Level', line=dict(color='green', dash='dot')))

# Resistance Level Line
fig.add_trace(go.Scatter(x=df['Time'], y=[resistance] * len(df), mode='lines', 
                         name='Resistance Level', line=dict(color='red', dash='dot')))

# Layout Customization
fig.update_layout(title=f"{symbol} Price with Support & Resistance Levels",
                  xaxis_title="Time",
                  yaxis_title="Price (USDT)",
                  template="plotly_dark",
                  hovermode="x unified")

# Show plot
fig.show()


from plotly.subplots import make_subplots

def calculate_rsi(data,window=14):
    delta = data['Close'].diff()
    gain = (delta.where(delta > 0 , 0)).rolling(window=window).mean()
    loss = (delta.where(delta < 0 , 0)).rolling(window=window).mean()
    rs = gain / loss
    rsi = 100-(100/(1 + rs))
    return rsi

df['RSI'] = calculate_rsi(df)
print(df[['Close','RSI']].tail())


# Assuming 'df' is your DataFrame with 'Time', 'Open', 'High', 'Low', 'Close', and 'RSI' columns

# Create subplots: 2 rows, 1 column
fig = make_subplots(rows=2, cols=1, shared_xaxes=True,
                    vertical_spacing=0.03, subplot_titles=('OHLC', 'RSI'),
                    row_width=[0.2, 0.7])

# Plot OHLC on 1st row
fig.add_trace(go.Candlestick(x=df['Close'], open=df['Open'], high=df['High'],
                             low=df['Low'], close=df['Close'], name='OHLC'),
              row=1, col=1)

# Plot RSI on 2nd row
fig.add_trace(go.Scatter(x=df['Close'], y=df['RSI'], line=dict(color='blue', width=1), name='RSI'),
              row=2, col=1)

# Add upper/lower bounds
fig.add_hline(y=70, line_dash="dash", line_color="red", row=2, col=1)
fig.add_hline(y=30, line_dash="dash", line_color="green", row=2, col=1)

# Update x-axis labels
fig.update_xaxes(title_text='Date', row=2, col=1)

# Update y-axis labels
fig.update_yaxes(title_text='OHLC', row=1, col=1)
fig.update_yaxes(title_text='RSI', row=2, col=1)

# Update title and height
fig.update_layout(title='OHLC and RSI', height=600, template='plotly_dark')

# Show the plot
fig.show()





# Binance API Client (Public Data ke liye API key nahi chahiye)
client = Client("", "")

# Bitcoin ka historical data fetch karo (last 100 days)
klines = client.get_klines(symbol="BTCUSDT", interval=Client.KLINE_INTERVAL_1DAY, limit=100)

# Data ko pandas DataFrame me convert karo
df = pd.DataFrame(klines, columns=['Time', 'Open', 'High', 'Low', 'Close', 'Volume', '_', '_', '_', '_', '_', '_'])

# Correct Data Types
df['Time'] = pd.to_datetime(df['Time'], unit='ms')  # Time ko datetime me convert karo
df[['Open', 'High', 'Low', 'Close', 'Volume']] = df[['Open', 'High', 'Low', 'Close', 'Volume']].astype(float)

# Market Capitalization Estimate (Assuming Circulating Supply = 19M BTC)
circulating_supply = 19000000  # 19 Million BTC
df['Market_Cap'] = df['Close'] * circulating_supply

# 📈 Plot Price Trend, Volume & Market Cap
fig = go.Figure()

# Close Price Line
fig.add_trace(go.Scatter(x=df['Time'], y=df['Close'], mode='lines', name="Closing Price", line=dict(color='blue')))

# Volume Bar Chart (Secondary Axis)
fig.add_trace(go.Bar(x=df['Time'], y=df['Volume'], name="Trading Volume", yaxis='y2', marker_color='orange'))

# Market Cap Line (Secondary Axis)
fig.add_trace(go.Scatter(x=df['Time'], y=df['Market_Cap'], mode='lines', name="Market Cap", line=dict(color='green'), yaxis='y3'))

# Layout
fig.update_layout(title="Market Value Analysis: Bitcoin (BTCUSDT)",
                  xaxis_title="Date",
                  yaxis=dict(title="Closing Price (USDT)"),
                  yaxis2=dict(title="Trading Volume", overlaying="y", side="right", showgrid=False),
                  yaxis3=dict(title="Market Cap (USD)", overlaying="y", side="left", showgrid=False),
                  height=600, template="plotly_dark")

# Show the figure
fig.show()



